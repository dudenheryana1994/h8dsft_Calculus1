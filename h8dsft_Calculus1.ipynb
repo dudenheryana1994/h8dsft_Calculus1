{
 "cells": [
  {
   "cell_type": "markdown",
   "id": "65430904",
   "metadata": {},
   "source": [
    "# Non Graded Challenge 7\n",
    "\n",
    "_Non-Graded Assignment ini dibuat guna mengevaluasi pembelajaran pada Hacktiv8 Data Science Fulltime Program khususnya pada konsep Calculus._\n",
    "\n",
    "---\n",
    "\n",
    "## Assignment Instructions\n",
    "\n",
    "- Carilah derivative dari sebuah fungsi:\n",
    "  - $y = x^{2} + 2x + 1$\n",
    "  - $y = 4x^{3} - 3x^{2} + 2x -1$\n",
    "\n",
    "## Assignment Submission\n",
    "\n",
    "- Simpan assignment pada sesi ini dengan nama `h8dsft_Calculus1`.\n",
    "- Push Assigment yang telah kalian buat ke akun Github kalian masing-masing.\n",
    "\n",
    "## Assignment Objectives\n",
    "\n",
    "Non-Graded Assignment ini dibuat guna mengevaluasi konsep Calculus sebagai berikut:\n",
    "\n",
    "- Mampu memahami konsep derivative\n",
    "- Mampu mencari turunan dari sebuah fungsi dengan menggunakan Python"
   ]
  },
  {
   "cell_type": "markdown",
   "id": "395a9dd7",
   "metadata": {},
   "source": [
    "#### Problems\n",
    "\n",
    "- Carilah derivative dari sebuah fungsi:\n",
    "  - $y = x^{2} + 2x + 1$\n",
    "  - $y = 4x^{3} - 3x^{2} + 2x -1$"
   ]
  },
  {
   "cell_type": "markdown",
   "id": "192ba09a",
   "metadata": {},
   "source": [
    "#### Library yang digunakan"
   ]
  },
  {
   "cell_type": "code",
   "execution_count": 1,
   "id": "04eb8d44",
   "metadata": {},
   "outputs": [],
   "source": [
    "import sympy as sy\n",
    "import matplotlib.pyplot as plt\n",
    "import numpy as np\n",
    "from scipy.optimize import minimize_scalar"
   ]
  },
  {
   "cell_type": "code",
   "execution_count": 2,
   "id": "ae5ad161",
   "metadata": {},
   "outputs": [
    {
     "data": {
      "text/latex": [
       "$\\displaystyle 2 x + 2$"
      ],
      "text/plain": [
       "2*x + 2"
      ]
     },
     "execution_count": 2,
     "metadata": {},
     "output_type": "execute_result"
    }
   ],
   "source": [
    "x = sy.Symbol('x', real = True)\n",
    "\n",
    "y = x**2 + 2*x +1\n",
    "\n",
    "y.diff()"
   ]
  },
  {
   "cell_type": "code",
   "execution_count": 3,
   "id": "29805a54",
   "metadata": {},
   "outputs": [
    {
     "data": {
      "text/plain": [
       "array([-10.        ,  -9.59183673,  -9.18367347,  -8.7755102 ,\n",
       "        -8.36734694,  -7.95918367,  -7.55102041,  -7.14285714,\n",
       "        -6.73469388,  -6.32653061,  -5.91836735,  -5.51020408,\n",
       "        -5.10204082,  -4.69387755,  -4.28571429,  -3.87755102,\n",
       "        -3.46938776,  -3.06122449,  -2.65306122,  -2.24489796,\n",
       "        -1.83673469,  -1.42857143,  -1.02040816,  -0.6122449 ,\n",
       "        -0.20408163,   0.20408163,   0.6122449 ,   1.02040816,\n",
       "         1.42857143,   1.83673469,   2.24489796,   2.65306122,\n",
       "         3.06122449,   3.46938776,   3.87755102,   4.28571429,\n",
       "         4.69387755,   5.10204082,   5.51020408,   5.91836735,\n",
       "         6.32653061,   6.73469388,   7.14285714,   7.55102041,\n",
       "         7.95918367,   8.36734694,   8.7755102 ,   9.18367347,\n",
       "         9.59183673,  10.        ])"
      ]
     },
     "execution_count": 3,
     "metadata": {},
     "output_type": "execute_result"
    }
   ],
   "source": [
    "x = np.linspace(-10,10)\n",
    "x"
   ]
  },
  {
   "cell_type": "code",
   "execution_count": 4,
   "id": "a1baf48d",
   "metadata": {},
   "outputs": [
    {
     "data": {
      "text/plain": [
       "array([8.10000000e+01, 7.38196585e+01, 6.69725115e+01, 6.04585589e+01,\n",
       "       5.42778009e+01, 4.84302374e+01, 4.29158684e+01, 3.77346939e+01,\n",
       "       3.28867139e+01, 2.83719284e+01, 2.41903374e+01, 2.03419409e+01,\n",
       "       1.68267389e+01, 1.36447314e+01, 1.07959184e+01, 8.28029988e+00,\n",
       "       6.09787589e+00, 4.24864640e+00, 2.73261141e+00, 1.54977093e+00,\n",
       "       7.00124948e-01, 1.83673469e-01, 4.16493128e-04, 1.50354019e-01,\n",
       "       6.33486047e-01, 1.44981258e+00, 2.59933361e+00, 4.08204915e+00,\n",
       "       5.89795918e+00, 8.04706372e+00, 1.05293628e+01, 1.33448563e+01,\n",
       "       1.64935444e+01, 1.99754269e+01, 2.37905040e+01, 2.79387755e+01,\n",
       "       3.24202416e+01, 3.72349021e+01, 4.23827572e+01, 4.78638067e+01,\n",
       "       5.36780508e+01, 5.98254894e+01, 6.63061224e+01, 7.31199500e+01,\n",
       "       8.02669721e+01, 8.77471887e+01, 9.55605998e+01, 1.03707205e+02,\n",
       "       1.12187005e+02, 1.21000000e+02])"
      ]
     },
     "execution_count": 4,
     "metadata": {},
     "output_type": "execute_result"
    }
   ],
   "source": [
    "y = x**2 + 2*x +1\n",
    "y"
   ]
  },
  {
   "cell_type": "code",
   "execution_count": 5,
   "id": "b05d4d94",
   "metadata": {},
   "outputs": [
    {
     "data": {
      "text/plain": [
       "array([-17.59183673, -16.7755102 , -15.95918367, -15.14285714,\n",
       "       -14.32653061, -13.51020408, -12.69387755, -11.87755102,\n",
       "       -11.06122449, -10.24489796,  -9.42857143,  -8.6122449 ,\n",
       "        -7.79591837,  -6.97959184,  -6.16326531,  -5.34693878,\n",
       "        -4.53061224,  -3.71428571,  -2.89795918,  -2.08163265,\n",
       "        -1.26530612,  -0.44897959,   0.36734694,   1.18367347,\n",
       "         2.        ,   2.81632653,   3.63265306,   4.44897959,\n",
       "         5.26530612,   6.08163265,   6.89795918,   7.71428571,\n",
       "         8.53061224,   9.34693878,  10.16326531,  10.97959184,\n",
       "        11.79591837,  12.6122449 ,  13.42857143,  14.24489796,\n",
       "        15.06122449,  15.87755102,  16.69387755,  17.51020408,\n",
       "        18.32653061,  19.14285714,  19.95918367,  20.7755102 ,\n",
       "        21.59183673])"
      ]
     },
     "execution_count": 5,
     "metadata": {},
     "output_type": "execute_result"
    }
   ],
   "source": [
    "df = np.diff(y) / np.diff(x)\n",
    "df"
   ]
  },
  {
   "cell_type": "code",
   "execution_count": 6,
   "id": "0251191d",
   "metadata": {},
   "outputs": [
    {
     "data": {
      "text/plain": [
       "array([-17.59183673, -17.18367347, -16.36734694, -15.55102041,\n",
       "       -14.73469388, -13.91836735, -13.10204082, -12.28571429,\n",
       "       -11.46938776, -10.65306122,  -9.83673469,  -9.02040816,\n",
       "        -8.20408163,  -7.3877551 ,  -6.57142857,  -5.75510204,\n",
       "        -4.93877551,  -4.12244898,  -3.30612245,  -2.48979592,\n",
       "        -1.67346939,  -0.85714286,  -0.04081633,   0.7755102 ,\n",
       "         1.59183673,   2.40816327,   3.2244898 ,   4.04081633,\n",
       "         4.85714286,   5.67346939,   6.48979592,   7.30612245,\n",
       "         8.12244898,   8.93877551,   9.75510204,  10.57142857,\n",
       "        11.3877551 ,  12.20408163,  13.02040816,  13.83673469,\n",
       "        14.65306122,  15.46938776,  16.28571429,  17.10204082,\n",
       "        17.91836735,  18.73469388,  19.55102041,  20.36734694,\n",
       "        21.18367347,  21.59183673])"
      ]
     },
     "execution_count": 6,
     "metadata": {},
     "output_type": "execute_result"
    }
   ],
   "source": [
    "df = np.gradient(y,x)\n",
    "df"
   ]
  },
  {
   "cell_type": "code",
   "execution_count": 7,
   "id": "4c5ebcaf",
   "metadata": {},
   "outputs": [
    {
     "data": {
      "image/png": "[encoded data removed]",
      "text/plain": [
       "<Figure size 432x288 with 1 Axes>"
      ]
     },
     "metadata": {
      "needs_background": "light"
     },
     "output_type": "display_data"
    }
   ],
   "source": [
    "plt.plot(x,y)\n",
    "plt.grid()"
   ]
  },
  {
   "cell_type": "code",
   "execution_count": 11,
   "id": "5dd0a78b",
   "metadata": {},
   "outputs": [
    {
     "data": {
      "text/latex": [
       "$\\displaystyle 12 x^{2} - 6 x + 2$"
      ],
      "text/plain": [
       "12*x**2 - 6*x + 2"
      ]
     },
     "execution_count": 11,
     "metadata": {},
     "output_type": "execute_result"
    }
   ],
   "source": [
    "x = sy.Symbol('x', real = True)\n",
    "y = 4*x**3 - 3*x**2 + 2*x -1\n",
    "y.diff()"
   ]
  },
  {
   "cell_type": "code",
   "execution_count": 12,
   "id": "dcbf4caa",
   "metadata": {},
   "outputs": [
    {
     "data": {
      "text/plain": [
       "array([-5.        , -4.69387755, -4.3877551 , -4.08163265, -3.7755102 ,\n",
       "       -3.46938776, -3.16326531, -2.85714286, -2.55102041, -2.24489796,\n",
       "       -1.93877551, -1.63265306, -1.32653061, -1.02040816, -0.71428571,\n",
       "       -0.40816327, -0.10204082,  0.20408163,  0.51020408,  0.81632653,\n",
       "        1.12244898,  1.42857143,  1.73469388,  2.04081633,  2.34693878,\n",
       "        2.65306122,  2.95918367,  3.26530612,  3.57142857,  3.87755102,\n",
       "        4.18367347,  4.48979592,  4.79591837,  5.10204082,  5.40816327,\n",
       "        5.71428571,  6.02040816,  6.32653061,  6.63265306,  6.93877551,\n",
       "        7.24489796,  7.55102041,  7.85714286,  8.16326531,  8.46938776,\n",
       "        8.7755102 ,  9.08163265,  9.3877551 ,  9.69387755, 10.        ])"
      ]
     },
     "execution_count": 12,
     "metadata": {},
     "output_type": "execute_result"
    }
   ],
   "source": [
    "x = np.linspace(-5,10)\n",
    "x"
   ]
  },
  {
   "cell_type": "code",
   "execution_count": 13,
   "id": "91e0110f",
   "metadata": {},
   "outputs": [
    {
     "data": {
      "text/plain": [
       "array([-5.86000000e+02, -4.90156389e+02, -4.05431869e+02, -3.31137953e+02,\n",
       "       -2.66586150e+02, -2.11087974e+02, -1.63954934e+02, -1.24498542e+02,\n",
       "       -9.20303105e+01, -6.58617498e+01, -4.53043715e+01, -2.96696870e+01,\n",
       "       -1.82692076e+01, -1.04144447e+01, -5.41690962e+00, -2.58811380e+00,\n",
       "       -1.23956855e+00, -6.82785234e-01, -2.29275217e-01,  8.09450144e-01,\n",
       "        3.12187949e+00,  7.39650146e+00,  1.43218047e+01,  2.45862778e+01,\n",
       "        3.88784095e+01,  5.78866884e+01,  8.22996031e+01,  1.12805642e+02,\n",
       "        1.50093294e+02,  1.94851048e+02,  2.47767393e+02,  3.09530816e+02,\n",
       "        3.80829807e+02,  4.62352855e+02,  5.54788447e+02,  6.58825073e+02,\n",
       "        7.75151221e+02,  9.04455380e+02,  1.04742604e+03,  1.20475169e+03,\n",
       "        1.37712081e+03,  1.56522190e+03,  1.76974344e+03,  1.99137393e+03,\n",
       "        2.23080184e+03,  2.48871568e+03,  2.76580393e+03,  3.06275507e+03,\n",
       "        3.38025760e+03,  3.71900000e+03])"
      ]
     },
     "execution_count": 13,
     "metadata": {},
     "output_type": "execute_result"
    }
   ],
   "source": [
    "y = 4*x**3 - 3*x**2 + 2*x -1\n",
    "y"
   ]
  },
  {
   "cell_type": "code",
   "execution_count": 14,
   "id": "b8bce4e6",
   "metadata": {},
   "outputs": [
    {
     "data": {
      "text/plain": [
       "array([ 313.08912953,  276.76676385,  242.69346106,  210.86922116,\n",
       "        181.29404415,  153.96793003,  128.8908788 ,  106.06289046,\n",
       "         85.48396501,   67.15410246,   51.07330279,   37.24156601,\n",
       "         25.65889213,   16.32528113,    9.24073303,    4.40524781,\n",
       "          1.81882549,    1.48146606,    3.39316951,    7.55393586,\n",
       "         13.9637651 ,   22.62265723,   33.53061224,   46.68763015,\n",
       "         62.09371095,   79.74885464,   99.65306122,  121.8063307 ,\n",
       "        146.20866306,  172.86005831,  201.76051645,  232.91003748,\n",
       "        266.30862141,  301.95626822,  339.85297793,  379.99875052,\n",
       "        422.39358601,  467.03748438,  513.93044565,  563.0724698 ,\n",
       "        614.46355685,  668.10370679,  723.99291962,  782.13119534,\n",
       "        842.51853394,  905.15493544,  970.04039983, 1037.17492711,\n",
       "       1106.55851728])"
      ]
     },
     "execution_count": 14,
     "metadata": {},
     "output_type": "execute_result"
    }
   ],
   "source": [
    "df = np.diff(y) / np.diff(x)\n",
    "df"
   ]
  },
  {
   "cell_type": "code",
   "execution_count": 15,
   "id": "17261e49",
   "metadata": {},
   "outputs": [
    {
     "data": {
      "text/plain": [
       "array([ 313.08912953,  294.92794669,  259.73011245,  226.78134111,\n",
       "        196.08163265,  167.63098709,  141.42940441,  117.47688463,\n",
       "         95.77342774,   76.31903374,   59.11370262,   44.1574344 ,\n",
       "         31.45022907,   20.99208663,   12.78300708,    6.82299042,\n",
       "          3.11203665,    1.65014577,    2.43731778,    5.47355269,\n",
       "         10.75885048,   18.29321116,   28.07663474,   40.1091212 ,\n",
       "         54.39067055,   70.9212828 ,   89.70095793,  110.72969596,\n",
       "        134.00749688,  159.53436068,  187.31028738,  217.33527697,\n",
       "        249.60932945,  284.13244481,  320.90462307,  359.92586422,\n",
       "        401.19616826,  444.71553519,  490.48396501,  538.50145773,\n",
       "        588.76801333,  641.28363182,  696.0483132 ,  753.06205748,\n",
       "        812.32486464,  873.83673469,  937.59766764, 1003.60766347,\n",
       "       1071.8667222 , 1106.55851728])"
      ]
     },
     "execution_count": 15,
     "metadata": {},
     "output_type": "execute_result"
    }
   ],
   "source": [
    "df = np.gradient(y,x)\n",
    "df"
   ]
  },
  {
   "cell_type": "code",
   "execution_count": 16,
   "id": "415dff62",
   "metadata": {},
   "outputs": [
    {
     "data": {
      "image/png": "[encoded data removed]",
      "text/plain": [
       "<Figure size 432x288 with 1 Axes>"
      ]
     },
     "metadata": {
      "needs_background": "light"
     },
     "output_type": "display_data"
    }
   ],
   "source": [
    "plt.plot(x,y)\n",
    "plt.grid()"
   ]
  },
  {
   "cell_type": "code",
   "execution_count": null,
   "id": "1823bc12",
   "metadata": {},
   "outputs": [],
   "source": []
  }
 ],
 "metadata": {
  "kernelspec": {
   "display_name": "Python 3",
   "language": "python",
   "name": "python3"
  },
  "language_info": {
   "codemirror_mode": {
    "name": "ipython",
    "version": 3
   },
   "file_extension": ".py",
   "mimetype": "text/x-python",
   "name": "python",
   "nbconvert_exporter": "python",
   "pygments_lexer": "ipython3",
   "version": "3.8.8"
  }
 },
 "nbformat": 4,
 "nbformat_minor": 5
}
